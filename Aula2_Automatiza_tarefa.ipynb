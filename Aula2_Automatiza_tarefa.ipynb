{
 "cells": [
  {
   "cell_type": "markdown",
   "id": "713b28a1",
   "metadata": {},
   "source": [
    "# Aula 2 - Automatizar tarefa de cotaçāo de Ações \n",
    "\n",
    "Problema \n",
    "\n",
    "- Passo 1: buscar informações de forma automática do site do Yahoo Finanças \n",
    "- Passo 2: Gerar análises \n",
    "- Passo 3: Enviar e-mail com os resultados da análise"
   ]
  },
  {
   "cell_type": "markdown",
   "id": "895ba74e",
   "metadata": {},
   "source": [
    "# Passo 1"
   ]
  },
  {
   "cell_type": "code",
   "execution_count": 1,
   "id": "9d06eb66",
   "metadata": {},
   "outputs": [
    {
     "name": "stdout",
     "output_type": "stream",
     "text": [
      "Requirement already satisfied: yfinance in /Users/julianacunha/opt/anaconda3/lib/python3.9/site-packages (0.1.75)\n",
      "Requirement already satisfied: pandas>=0.24.0 in /Users/julianacunha/opt/anaconda3/lib/python3.9/site-packages (from yfinance) (1.4.2)\n",
      "Requirement already satisfied: multitasking>=0.0.7 in /Users/julianacunha/opt/anaconda3/lib/python3.9/site-packages (from yfinance) (0.0.11)\n",
      "Requirement already satisfied: requests>=2.26 in /Users/julianacunha/opt/anaconda3/lib/python3.9/site-packages (from yfinance) (2.27.1)\n",
      "Requirement already satisfied: lxml>=4.5.1 in /Users/julianacunha/opt/anaconda3/lib/python3.9/site-packages (from yfinance) (4.8.0)\n",
      "Requirement already satisfied: numpy>=1.15 in /Users/julianacunha/opt/anaconda3/lib/python3.9/site-packages (from yfinance) (1.21.5)\n",
      "Requirement already satisfied: appdirs>=1.4.4 in /Users/julianacunha/opt/anaconda3/lib/python3.9/site-packages (from yfinance) (1.4.4)\n",
      "Requirement already satisfied: python-dateutil>=2.8.1 in /Users/julianacunha/opt/anaconda3/lib/python3.9/site-packages (from pandas>=0.24.0->yfinance) (2.8.2)\n",
      "Requirement already satisfied: pytz>=2020.1 in /Users/julianacunha/opt/anaconda3/lib/python3.9/site-packages (from pandas>=0.24.0->yfinance) (2021.3)\n",
      "Requirement already satisfied: six>=1.5 in /Users/julianacunha/opt/anaconda3/lib/python3.9/site-packages (from python-dateutil>=2.8.1->pandas>=0.24.0->yfinance) (1.16.0)\n",
      "Requirement already satisfied: urllib3<1.27,>=1.21.1 in /Users/julianacunha/opt/anaconda3/lib/python3.9/site-packages (from requests>=2.26->yfinance) (1.26.9)\n",
      "Requirement already satisfied: certifi>=2017.4.17 in /Users/julianacunha/opt/anaconda3/lib/python3.9/site-packages (from requests>=2.26->yfinance) (2021.10.8)\n",
      "Requirement already satisfied: idna<4,>=2.5 in /Users/julianacunha/opt/anaconda3/lib/python3.9/site-packages (from requests>=2.26->yfinance) (3.3)\n",
      "Requirement already satisfied: charset-normalizer~=2.0.0 in /Users/julianacunha/opt/anaconda3/lib/python3.9/site-packages (from requests>=2.26->yfinance) (2.0.4)\n"
     ]
    }
   ],
   "source": [
    "!pip install yfinance"
   ]
  },
  {
   "cell_type": "code",
   "execution_count": 2,
   "id": "e14b133b",
   "metadata": {},
   "outputs": [],
   "source": [
    "import yfinance"
   ]
  },
  {
   "cell_type": "code",
   "execution_count": 3,
   "id": "6d874a95",
   "metadata": {},
   "outputs": [
    {
     "name": "stdout",
     "output_type": "stream",
     "text": [
      "Digite o código da açāo desejada: PETR4.SA\n"
     ]
    },
    {
     "data": {
      "text/plain": [
       "<AxesSubplot:xlabel='Date'>"
      ]
     },
     "execution_count": 3,
     "metadata": {},
     "output_type": "execute_result"
    },
    {
     "data": {
      "image/png": "[encoded data removed]",
      "text/plain": [
       "<Figure size 432x288 with 1 Axes>"
      ]
     },
     "metadata": {
      "needs_background": "light"
     },
     "output_type": "display_data"
    }
   ],
   "source": [
    "ticker = input(\"Digite o código da açāo desejada: \")\n",
    "\n",
    "dados = yfinance.Ticker(ticker)\n",
    "tabela = dados.history(\"6mo\")\n",
    "fechamento = tabela.Close\n",
    "\n",
    "fechamento.plot()"
   ]
  },
  {
   "cell_type": "markdown",
   "id": "ace79c57",
   "metadata": {},
   "source": [
    "# Passo 2 - Gerar análises\n",
    "- Cotaçāo máxima, mínima e atual"
   ]
  },
  {
   "cell_type": "code",
   "execution_count": 9,
   "id": "9deffcd2",
   "metadata": {},
   "outputs": [
    {
     "name": "stdout",
     "output_type": "stream",
     "text": [
      "34.47999954223633\n",
      "21.407672882080078\n",
      "31.3700008392334\n"
     ]
    }
   ],
   "source": [
    "maxima = fechamento.max()\n",
    "minima = fechamento.min()\n",
    "atual = fechamento[-1]\n",
    "print(maxima)\n",
    "print(minima)\n",
    "print(atual)"
   ]
  },
  {
   "cell_type": "markdown",
   "id": "ce1ecd51",
   "metadata": {},
   "source": [
    "# Passo 3 - Enviar e-mail de forma automática\n",
    "- Abrir uma nova aba no navegador e escrever o endereço do Gmail\n",
    "- Clicar no botāo escrever\n",
    "- Digitar o endereço de destino\n",
    "- Assunto\n",
    "- Escrever o email \n",
    "- Clicar em Enviar "
   ]
  },
  {
   "cell_type": "code",
   "execution_count": 10,
   "id": "e4eeb200",
   "metadata": {},
   "outputs": [
    {
     "name": "stdout",
     "output_type": "stream",
     "text": [
      "Collecting pyautogui\n",
      "  Downloading PyAutoGUI-0.9.53.tar.gz (59 kB)\n",
      "\u001b[K     |████████████████████████████████| 59 kB 2.5 MB/s eta 0:00:011\n",
      "\u001b[?25hCollecting pymsgbox\n",
      "  Downloading PyMsgBox-1.0.9.tar.gz (18 kB)\n",
      "  Installing build dependencies ... \u001b[?25ldone\n",
      "\u001b[?25h  Getting requirements to build wheel ... \u001b[?25ldone\n",
      "\u001b[?25h    Preparing wheel metadata ... \u001b[?25ldone\n",
      "\u001b[?25hCollecting PyTweening>=1.0.1\n",
      "  Downloading pytweening-1.0.4.tar.gz (14 kB)\n",
      "Collecting pyscreeze>=0.1.21\n",
      "  Downloading PyScreeze-0.1.28.tar.gz (25 kB)\n",
      "  Installing build dependencies ... \u001b[?25ldone\n",
      "\u001b[?25h  Getting requirements to build wheel ... \u001b[?25ldone\n",
      "\u001b[?25h    Preparing wheel metadata ... \u001b[?25ldone\n",
      "\u001b[?25hCollecting pygetwindow>=0.0.5\n",
      "  Downloading PyGetWindow-0.0.9.tar.gz (9.7 kB)\n",
      "Collecting mouseinfo\n",
      "  Downloading MouseInfo-0.1.3.tar.gz (10 kB)\n",
      "Collecting pyobjc-core\n",
      "  Downloading pyobjc_core-8.5.1-cp39-cp39-macosx_10_9_universal2.whl (578 kB)\n",
      "\u001b[K     |████████████████████████████████| 578 kB 4.9 MB/s eta 0:00:01\n",
      "\u001b[?25hCollecting pyobjc\n",
      "  Downloading pyobjc-8.5.1-py3-none-any.whl (3.8 kB)\n",
      "Collecting pyrect\n",
      "  Downloading PyRect-0.2.0.tar.gz (17 kB)\n",
      "Collecting pyperclip\n",
      "  Downloading pyperclip-1.8.2.tar.gz (20 kB)\n",
      "Collecting rubicon-objc\n",
      "  Downloading rubicon_objc-0.4.2-py3-none-any.whl (58 kB)\n",
      "\u001b[K     |████████████████████████████████| 58 kB 13.5 MB/s eta 0:00:01\n",
      "\u001b[?25hCollecting pyobjc-framework-SyncServices==8.5.1\n",
      "  Downloading pyobjc_framework_SyncServices-8.5.1-cp36-abi3-macosx_10_9_x86_64.whl (10 kB)\n",
      "Collecting pyobjc-framework-InstallerPlugins==8.5.1\n",
      "  Downloading pyobjc_framework_InstallerPlugins-8.5.1-py2.py3-none-any.whl (4.3 kB)\n",
      "Collecting pyobjc-framework-MetalKit==8.5.1\n",
      "  Downloading pyobjc_framework_MetalKit-8.5.1-cp36-abi3-macosx_10_9_x86_64.whl (6.5 kB)\n",
      "Collecting pyobjc-framework-FileProviderUI==8.5.1\n",
      "  Downloading pyobjc_framework_FileProviderUI-8.5.1-py2.py3-none-any.whl (3.2 kB)\n",
      "Collecting pyobjc-framework-PreferencePanes==8.5.1\n",
      "  Downloading pyobjc_framework_PreferencePanes-8.5.1-py2.py3-none-any.whl (4.3 kB)\n",
      "Collecting pyobjc-framework-MetalPerformanceShaders==8.5.1\n",
      "  Downloading pyobjc_framework_MetalPerformanceShaders-8.5.1-cp36-abi3-macosx_10_9_x86_64.whl (19 kB)\n",
      "Collecting pyobjc-framework-ContactsUI==8.5.1\n",
      "  Downloading pyobjc_framework_ContactsUI-8.5.1-cp36-abi3-macosx_10_9_x86_64.whl (5.7 kB)\n",
      "Collecting pyobjc-framework-PencilKit==8.5.1\n",
      "  Downloading pyobjc_framework_PencilKit-8.5.1-py2.py3-none-any.whl (3.2 kB)\n",
      "Collecting pyobjc-framework-UserNotificationsUI==8.5.1\n",
      "  Downloading pyobjc_framework_UserNotificationsUI-8.5.1-py2.py3-none-any.whl (3.5 kB)\n",
      "Collecting pyobjc-framework-AudioVideoBridging==8.5.1\n",
      "  Downloading pyobjc_framework_AudioVideoBridging-8.5.1-py2.py3-none-any.whl (6.3 kB)\n",
      "Collecting pyobjc-framework-AVKit==8.5.1\n",
      "  Downloading pyobjc_framework_AVKit-8.5.1-cp36-abi3-macosx_10_9_x86_64.whl (8.0 kB)\n",
      "Collecting pyobjc-framework-ModelIO==8.5.1\n",
      "  Downloading pyobjc_framework_ModelIO-8.5.1-cp36-abi3-macosx_10_9_x86_64.whl (13 kB)\n",
      "Collecting pyobjc-framework-AdSupport==8.5.1\n",
      "  Downloading pyobjc_framework_AdSupport-8.5.1-py2.py3-none-any.whl (3.0 kB)\n",
      "Collecting pyobjc-framework-ScreenTime==8.5.1\n",
      "  Downloading pyobjc_framework_ScreenTime-8.5.1-py2.py3-none-any.whl (3.1 kB)\n",
      "Collecting pyobjc-framework-FinderSync==8.5.1\n",
      "  Downloading pyobjc_framework_FinderSync-8.5.1-py2.py3-none-any.whl (4.4 kB)\n",
      "Collecting pyobjc-framework-GameController==8.5.1\n",
      "  Downloading pyobjc_framework_GameController-8.5.1-cp36-abi3-macosx_10_9_x86_64.whl (9.2 kB)\n",
      "Collecting pyobjc-framework-DiscRecordingUI==8.5.1\n",
      "  Downloading pyobjc_framework_DiscRecordingUI-8.5.1-py2.py3-none-any.whl (4.3 kB)\n",
      "Collecting pyobjc-framework-CloudKit==8.5.1\n",
      "  Downloading pyobjc_framework_CloudKit-8.5.1-py2.py3-none-any.whl (7.8 kB)\n",
      "Collecting pyobjc-framework-SceneKit==8.5.1\n",
      "  Downloading pyobjc_framework_SceneKit-8.5.1-cp36-abi3-macosx_10_9_x86_64.whl (21 kB)\n",
      "Collecting pyobjc-framework-CoreAudioKit==8.5.1\n",
      "  Downloading pyobjc_framework_CoreAudioKit-8.5.1-cp36-abi3-macosx_10_9_x86_64.whl (5.5 kB)\n",
      "Collecting pyobjc-framework-MetalPerformanceShadersGraph==8.5.1\n",
      "  Downloading pyobjc_framework_MetalPerformanceShadersGraph-8.5.1-py2.py3-none-any.whl (5.0 kB)\n",
      "Collecting pyobjc-framework-ClassKit==8.5.1\n",
      "  Downloading pyobjc_framework_ClassKit-8.5.1-cp36-abi3-macosx_10_9_x86_64.whl (6.3 kB)\n",
      "Collecting pyobjc-framework-IntentsUI==8.5.1\n",
      "  Downloading pyobjc_framework_IntentsUI-8.5.1-cp39-cp39-macosx_10_9_universal2.whl (9.9 kB)\n",
      "Collecting pyobjc-framework-NotificationCenter==8.5.1\n",
      "  Downloading pyobjc_framework_NotificationCenter-8.5.1-cp36-abi3-macosx_10_9_x86_64.whl (7.2 kB)\n",
      "Collecting pyobjc-framework-OSAKit==8.5.1\n",
      "  Downloading pyobjc_framework_OSAKit-8.5.1-py2.py3-none-any.whl (3.6 kB)\n",
      "Collecting pyobjc-framework-AVFoundation==8.5.1\n",
      "  Downloading pyobjc_framework_AVFoundation-8.5.1-cp36-abi3-macosx_10_9_x86_64.whl (45 kB)\n",
      "\u001b[K     |████████████████████████████████| 45 kB 9.4 MB/s  eta 0:00:01\n",
      "\u001b[?25hCollecting pyobjc-framework-LocalAuthenticationEmbeddedUI==8.5.1\n",
      "  Downloading pyobjc_framework_LocalAuthenticationEmbeddedUI-8.5.1-py2.py3-none-any.whl (3.2 kB)\n",
      "Collecting pyobjc-framework-QuickLookThumbnailing==8.5.1\n",
      "  Downloading pyobjc_framework_QuickLookThumbnailing-8.5.1-py2.py3-none-any.whl (3.6 kB)\n",
      "Collecting pyobjc-framework-CoreML==8.5.1\n",
      "  Downloading pyobjc_framework_CoreML-8.5.1-cp36-abi3-macosx_10_9_x86_64.whl (8.2 kB)\n",
      "Collecting pyobjc-framework-MediaPlayer==8.5.1\n",
      "  Downloading pyobjc_framework_MediaPlayer-8.5.1-py2.py3-none-any.whl (6.0 kB)\n",
      "Collecting pyobjc-framework-MultipeerConnectivity==8.5.1\n",
      "  Downloading pyobjc_framework_MultipeerConnectivity-8.5.1-cp36-abi3-macosx_10_9_x86_64.whl (8.8 kB)\n",
      "Collecting pyobjc-framework-Vision==8.5.1\n",
      "  Downloading pyobjc_framework_Vision-8.5.1-cp36-abi3-macosx_10_9_x86_64.whl (9.9 kB)\n",
      "Collecting pyobjc-framework-UserNotifications==8.5.1\n",
      "  Downloading pyobjc_framework_UserNotifications-8.5.1-cp36-abi3-macosx_10_9_x86_64.whl (7.3 kB)\n",
      "Collecting pyobjc-framework-SecurityInterface==8.5.1\n",
      "  Downloading pyobjc_framework_SecurityInterface-8.5.1-cp36-abi3-macosx_10_9_x86_64.whl (7.5 kB)\n",
      "Collecting pyobjc-framework-DataDetection==8.5.1\n",
      "  Downloading pyobjc_framework_DataDetection-8.5.1-py2.py3-none-any.whl (3.0 kB)\n",
      "Collecting pyobjc-framework-CoreMIDI==8.5.1\n",
      "  Downloading pyobjc_framework_CoreMIDI-8.5.1-cp36-abi3-macosx_10_9_x86_64.whl (12 kB)\n",
      "Collecting pyobjc-framework-ImageCaptureCore==8.5.1\n",
      "  Downloading pyobjc_framework_ImageCaptureCore-8.5.1-cp36-abi3-macosx_10_9_x86_64.whl (12 kB)\n",
      "Collecting pyobjc-framework-CoreAudio==8.5.1\n",
      "  Downloading pyobjc_framework_CoreAudio-8.5.1-cp39-cp39-macosx_10_9_universal2.whl (35 kB)\n",
      "Collecting pyobjc-framework-MetricKit==8.5.1\n",
      "  Downloading pyobjc_framework_MetricKit-8.5.1-cp39-cp39-macosx_10_9_universal2.whl (8.6 kB)\n",
      "Collecting pyobjc-framework-Quartz==8.5.1\n",
      "  Downloading pyobjc_framework_Quartz-8.5.1-cp39-cp39-macosx_10_9_universal2.whl (226 kB)\n",
      "\u001b[K     |████████████████████████████████| 226 kB 7.8 MB/s eta 0:00:01\n",
      "\u001b[?25hCollecting pyobjc-framework-Photos==8.5.1\n",
      "  Downloading pyobjc_framework_Photos-8.5.1-cp36-abi3-macosx_10_9_x86_64.whl (9.3 kB)\n",
      "Collecting pyobjc-framework-KernelManagement==8.5.1\n",
      "  Downloading pyobjc_framework_KernelManagement-8.5.1-py2.py3-none-any.whl (3.2 kB)\n",
      "Collecting pyobjc-framework-LocalAuthentication==8.5.1\n",
      "  Downloading pyobjc_framework_LocalAuthentication-8.5.1-py2.py3-none-any.whl (5.0 kB)\n",
      "Collecting pyobjc-framework-OpenDirectory==8.5.1\n",
      "  Downloading pyobjc_framework_OpenDirectory-8.5.1-py2.py3-none-any.whl (11 kB)\n",
      "Collecting pyobjc-framework-NetworkExtension==8.5.1\n",
      "  Downloading pyobjc_framework_NetworkExtension-8.5.1-cp36-abi3-macosx_10_9_x86_64.whl (10 kB)\n",
      "Collecting pyobjc-framework-DeviceCheck==8.5.1\n",
      "  Downloading pyobjc_framework_DeviceCheck-8.5.1-py2.py3-none-any.whl (3.2 kB)\n",
      "Collecting pyobjc-framework-MailKit==8.5.1\n",
      "  Downloading pyobjc_framework_MailKit-8.5.1-py2.py3-none-any.whl (4.1 kB)\n",
      "Collecting pyobjc-framework-ExecutionPolicy==8.5.1\n",
      "  Downloading pyobjc_framework_ExecutionPolicy-8.5.1-py2.py3-none-any.whl (3.3 kB)\n",
      "Collecting pyobjc-framework-LatentSemanticMapping==8.5.1\n",
      "  Downloading pyobjc_framework_LatentSemanticMapping-8.5.1-py2.py3-none-any.whl (5.0 kB)\n",
      "Collecting pyobjc-framework-ShazamKit==8.5.1\n"
     ]
    },
    {
     "name": "stdout",
     "output_type": "stream",
     "text": [
      "  Downloading pyobjc_framework_ShazamKit-8.5.1-cp39-cp39-macosx_10_9_universal2.whl (9.0 kB)\n",
      "Collecting pyobjc-framework-DictionaryServices==8.5.1\n",
      "  Downloading pyobjc_framework_DictionaryServices-8.5.1-py2.py3-none-any.whl (3.4 kB)\n",
      "Collecting pyobjc-framework-CoreMedia==8.5.1\n",
      "  Downloading pyobjc_framework_CoreMedia-8.5.1-cp39-cp39-macosx_10_9_universal2.whl (23 kB)\n",
      "Collecting pyobjc-framework-MLCompute==8.5.1\n",
      "  Downloading pyobjc_framework_MLCompute-8.5.1-py2.py3-none-any.whl (6.1 kB)\n",
      "Collecting pyobjc-framework-Accessibility==8.5.1\n",
      "  Downloading pyobjc_framework_Accessibility-8.5.1-cp36-abi3-macosx_10_9_x86_64.whl (7.1 kB)\n",
      "Collecting pyobjc-framework-FSEvents==8.5.1\n",
      "  Downloading pyobjc_framework_FSEvents-8.5.1-cp36-abi3-macosx_10_9_x86_64.whl (8.9 kB)\n",
      "Collecting pyobjc-framework-ReplayKit==8.5.1\n",
      "  Downloading pyobjc_framework_ReplayKit-8.5.1-cp36-abi3-macosx_10_9_x86_64.whl (7.2 kB)\n",
      "Collecting pyobjc-framework-AppleScriptKit==8.5.1\n",
      "  Downloading pyobjc_framework_AppleScriptKit-8.5.1-py2.py3-none-any.whl (3.9 kB)\n",
      "Collecting pyobjc-framework-ScriptingBridge==8.5.1\n",
      "  Downloading pyobjc_framework_ScriptingBridge-8.5.1-cp36-abi3-macosx_10_9_x86_64.whl (6.6 kB)\n",
      "Collecting pyobjc-framework-ScreenSaver==8.5.1\n",
      "  Downloading pyobjc_framework_ScreenSaver-8.5.1-cp36-abi3-macosx_10_9_x86_64.whl (6.3 kB)\n",
      "Collecting pyobjc-framework-Metal==8.5.1\n",
      "  Downloading pyobjc_framework_Metal-8.5.1-cp36-abi3-macosx_10_9_x86_64.whl (32 kB)\n",
      "Collecting pyobjc-framework-VideoSubscriberAccount==8.5.1\n",
      "  Downloading pyobjc_framework_VideoSubscriberAccount-8.5.1-py2.py3-none-any.whl (3.8 kB)\n",
      "Collecting pyobjc-framework-ColorSync==8.5.1\n",
      "  Downloading pyobjc_framework_ColorSync-8.5.1-py2.py3-none-any.whl (5.4 kB)\n",
      "Collecting pyobjc-framework-Virtualization==8.5.1\n",
      "  Downloading pyobjc_framework_Virtualization-8.5.1-cp36-abi3-macosx_10_9_x86_64.whl (6.8 kB)\n",
      "Collecting pyobjc-framework-CoreWLAN==8.5.1\n",
      "  Downloading pyobjc_framework_CoreWLAN-8.5.1-cp36-abi3-macosx_10_9_x86_64.whl (8.1 kB)\n",
      "Collecting pyobjc-framework-ExternalAccessory==8.5.1\n",
      "  Downloading pyobjc_framework_ExternalAccessory-8.5.1-cp36-abi3-macosx_10_9_x86_64.whl (6.5 kB)\n",
      "Collecting pyobjc-framework-AdServices==8.5.1\n",
      "  Downloading pyobjc_framework_AdServices-8.5.1-py2.py3-none-any.whl (3.0 kB)\n",
      "Collecting pyobjc-framework-SoundAnalysis==8.5.1\n",
      "  Downloading pyobjc_framework_SoundAnalysis-8.5.1-py2.py3-none-any.whl (3.5 kB)\n",
      "Collecting pyobjc-framework-GameKit==8.5.1\n",
      "  Downloading pyobjc_framework_GameKit-8.5.1-cp36-abi3-macosx_10_9_x86_64.whl (15 kB)\n",
      "Collecting pyobjc-framework-AppTrackingTransparency==8.5.1\n",
      "  Downloading pyobjc_framework_AppTrackingTransparency-8.5.1-py2.py3-none-any.whl (3.3 kB)\n",
      "Collecting pyobjc-framework-InputMethodKit==8.5.1\n",
      "  Downloading pyobjc_framework_InputMethodKit-8.5.1-cp36-abi3-macosx_10_9_x86_64.whl (7.4 kB)\n",
      "Collecting pyobjc-framework-AddressBook==8.5.1\n",
      "  Downloading pyobjc_framework_AddressBook-8.5.1-cp36-abi3-macosx_10_9_x86_64.whl (10 kB)\n",
      "Collecting pyobjc-framework-CoreSpotlight==8.5.1\n",
      "  Downloading pyobjc_framework_CoreSpotlight-8.5.1-cp36-abi3-macosx_10_9_x86_64.whl (6.9 kB)\n",
      "Collecting pyobjc-framework-InstantMessage==8.5.1\n",
      "  Downloading pyobjc_framework_InstantMessage-8.5.1-py2.py3-none-any.whl (4.9 kB)\n",
      "Collecting pyobjc-framework-Network==8.5.1\n",
      "  Downloading pyobjc_framework_Network-8.5.1-cp36-abi3-macosx_10_9_x86_64.whl (14 kB)\n",
      "Collecting pyobjc-framework-CFNetwork==8.5.1\n",
      "  Downloading pyobjc_framework_CFNetwork-8.5.1-cp36-abi3-macosx_10_9_x86_64.whl (12 kB)\n",
      "Collecting pyobjc-framework-CalendarStore==8.5.1\n",
      "  Downloading pyobjc_framework_CalendarStore-8.5.1-py2.py3-none-any.whl (4.6 kB)\n",
      "Collecting pyobjc-framework-CoreText==8.5.1\n",
      "  Downloading pyobjc_framework_CoreText-8.5.1-cp39-cp39-macosx_10_9_universal2.whl (30 kB)\n",
      "Collecting pyobjc-framework-UniformTypeIdentifiers==8.5.1\n",
      "  Downloading pyobjc_framework_UniformTypeIdentifiers-8.5.1-py2.py3-none-any.whl (4.0 kB)\n",
      "Collecting pyobjc-framework-ScreenCaptureKit==8.5.1\n",
      "  Downloading pyobjc_framework_ScreenCaptureKit-8.5.1-cp39-cp39-macosx_10_9_universal2.whl (9.8 kB)\n",
      "Collecting pyobjc-framework-ExceptionHandling==8.5.1\n",
      "  Downloading pyobjc_framework_ExceptionHandling-8.5.1-py2.py3-none-any.whl (7.4 kB)\n",
      "Collecting pyobjc-framework-MapKit==8.5.1\n",
      "  Downloading pyobjc_framework_MapKit-8.5.1-cp36-abi3-macosx_10_9_x86_64.whl (14 kB)\n",
      "Collecting pyobjc-framework-DiskArbitration==8.5.1\n",
      "  Downloading pyobjc_framework_DiskArbitration-8.5.1-py2.py3-none-any.whl (4.4 kB)\n",
      "Collecting pyobjc-framework-SystemConfiguration==8.5.1\n",
      "  Downloading pyobjc_framework_SystemConfiguration-8.5.1-cp36-abi3-macosx_10_9_x86_64.whl (16 kB)\n",
      "Collecting pyobjc-framework-Speech==8.5.1\n",
      "  Downloading pyobjc_framework_Speech-8.5.1-cp36-abi3-macosx_10_9_x86_64.whl (6.4 kB)\n",
      "Collecting pyobjc-framework-SecurityFoundation==8.5.1\n",
      "  Downloading pyobjc_framework_SecurityFoundation-8.5.1-py2.py3-none-any.whl (3.3 kB)\n",
      "Collecting pyobjc-framework-FileProvider==8.5.1\n",
      "  Downloading pyobjc_framework_FileProvider-8.5.1-cp39-cp39-macosx_10_9_universal2.whl (17 kB)\n",
      "Collecting pyobjc-framework-CallKit==8.5.1\n",
      "  Downloading pyobjc_framework_CallKit-8.5.1-py2.py3-none-any.whl (4.4 kB)\n",
      "Collecting pyobjc-framework-CoreHaptics==8.5.1\n",
      "  Downloading pyobjc_framework_CoreHaptics-8.5.1-py2.py3-none-any.whl (4.6 kB)\n",
      "Collecting pyobjc-framework-WebKit==8.5.1\n",
      "  Downloading pyobjc_framework_WebKit-8.5.1-cp36-abi3-macosx_10_9_x86_64.whl (29 kB)\n",
      "Collecting pyobjc-framework-CoreMotion==8.5.1\n",
      "  Downloading pyobjc_framework_CoreMotion-8.5.1-py2.py3-none-any.whl (4.7 kB)\n",
      "Collecting pyobjc-framework-SearchKit==8.5.1\n",
      "  Downloading pyobjc_framework_SearchKit-8.5.1-py2.py3-none-any.whl (3.3 kB)\n",
      "Collecting pyobjc-framework-Intents==8.5.1\n",
      "  Downloading pyobjc_framework_Intents-8.5.1-cp36-abi3-macosx_10_9_x86_64.whl (21 kB)\n",
      "Collecting pyobjc-framework-CryptoTokenKit==8.5.1\n",
      "  Downloading pyobjc_framework_CryptoTokenKit-8.5.1-cp36-abi3-macosx_10_9_x86_64.whl (9.3 kB)\n",
      "Collecting pyobjc-framework-Contacts==8.5.1\n",
      "  Downloading pyobjc_framework_Contacts-8.5.1-cp36-abi3-macosx_10_9_x86_64.whl (9.1 kB)\n",
      "Collecting pyobjc-framework-AutomaticAssessmentConfiguration==8.5.1\n",
      "  Downloading pyobjc_framework_AutomaticAssessmentConfiguration-8.5.1-cp36-abi3-macosx_10_9_x86_64.whl (6.4 kB)\n",
      "Collecting pyobjc-framework-PassKit==8.5.1\n",
      "  Downloading pyobjc_framework_PassKit-8.5.1-cp36-abi3-macosx_10_9_x86_64.whl (9.5 kB)\n",
      "Collecting pyobjc-framework-Security==8.5.1\n",
      "  Downloading pyobjc_framework_Security-8.5.1-cp39-cp39-macosx_10_9_universal2.whl (40 kB)\n",
      "\u001b[K     |████████████████████████████████| 40 kB 13.8 MB/s eta 0:00:01\n",
      "\u001b[?25hCollecting pyobjc-framework-Automator==8.5.1\n",
      "  Downloading pyobjc_framework_Automator-8.5.1-py2.py3-none-any.whl (5.0 kB)\n",
      "Collecting pyobjc-framework-VideoToolbox==8.5.1\n",
      "  Downloading pyobjc_framework_VideoToolbox-8.5.1-cp36-abi3-macosx_10_9_x86_64.whl (9.6 kB)\n",
      "Collecting pyobjc-framework-CoreLocation==8.5.1\n",
      "  Downloading pyobjc_framework_CoreLocation-8.5.1-cp36-abi3-macosx_10_9_x86_64.whl (9.3 kB)\n",
      "Collecting pyobjc-framework-iTunesLibrary==8.5.1\n",
      "  Downloading pyobjc_framework_iTunesLibrary-8.5.1-py2.py3-none-any.whl (4.7 kB)\n",
      "Collecting pyobjc-framework-NaturalLanguage==8.5.1\n",
      "  Downloading pyobjc_framework_NaturalLanguage-8.5.1-py2.py3-none-any.whl (4.4 kB)\n",
      "Collecting pyobjc-framework-SpriteKit==8.5.1\n",
      "  Downloading pyobjc_framework_SpriteKit-8.5.1-cp39-cp39-macosx_10_9_universal2.whl (17 kB)\n",
      "Collecting pyobjc-framework-Cocoa==8.5.1\n",
      "  Downloading pyobjc_framework_Cocoa-8.5.1-cp39-cp39-macosx_10_9_universal2.whl (388 kB)\n",
      "\u001b[K     |████████████████████████████████| 388 kB 11.7 MB/s eta 0:00:01\n",
      "\u001b[?25hCollecting pyobjc-framework-IOSurface==8.5.1\n",
      "  Downloading pyobjc_framework_IOSurface-8.5.1-py2.py3-none-any.whl (4.4 kB)\n",
      "Collecting pyobjc-framework-Accounts==8.5.1\n",
      "  Downloading pyobjc_framework_Accounts-8.5.1-py2.py3-none-any.whl (4.6 kB)\n",
      "Collecting pyobjc-framework-AppleScriptObjC==8.5.1\n",
      "  Downloading pyobjc_framework_AppleScriptObjC-8.5.1-py2.py3-none-any.whl (4.0 kB)\n",
      "Collecting pyobjc-framework-Collaboration==8.5.1\n",
      "  Downloading pyobjc_framework_Collaboration-8.5.1-py2.py3-none-any.whl (4.4 kB)\n",
      "Collecting pyobjc-framework-SystemExtensions==8.5.1\n",
      "  Downloading pyobjc_framework_SystemExtensions-8.5.1-cp36-abi3-macosx_10_9_x86_64.whl (6.4 kB)\n"
     ]
    },
    {
     "name": "stdout",
     "output_type": "stream",
     "text": [
      "Collecting pyobjc-framework-CoreData==8.5.1\n",
      "  Downloading pyobjc_framework_CoreData-8.5.1-cp36-abi3-macosx_10_9_x86_64.whl (13 kB)\n",
      "Collecting pyobjc-framework-MediaToolbox==8.5.1\n",
      "  Downloading pyobjc_framework_MediaToolbox-8.5.1-cp36-abi3-macosx_10_9_x86_64.whl (8.3 kB)\n",
      "Collecting pyobjc-framework-LaunchServices==8.5.1\n",
      "  Downloading pyobjc_framework_LaunchServices-8.5.1-py2.py3-none-any.whl (3.4 kB)\n",
      "Collecting pyobjc-framework-SafariServices==8.5.1\n",
      "  Downloading pyobjc_framework_SafariServices-8.5.1-cp36-abi3-macosx_10_9_x86_64.whl (5.8 kB)\n",
      "Collecting pyobjc-framework-ServiceManagement==8.5.1\n",
      "  Downloading pyobjc_framework_ServiceManagement-8.5.1-py2.py3-none-any.whl (4.5 kB)\n",
      "Collecting pyobjc-framework-MediaAccessibility==8.5.1\n",
      "  Downloading pyobjc_framework_MediaAccessibility-8.5.1-py2.py3-none-any.whl (3.9 kB)\n",
      "Collecting pyobjc-framework-CoreBluetooth==8.5.1\n",
      "  Downloading pyobjc_framework_CoreBluetooth-8.5.1-cp36-abi3-macosx_10_9_x86_64.whl (9.9 kB)\n",
      "Collecting pyobjc-framework-GameplayKit==8.5.1\n",
      "  Downloading pyobjc_framework_GameplayKit-8.5.1-cp36-abi3-macosx_10_9_x86_64.whl (8.4 kB)\n",
      "Collecting pyobjc-framework-libdispatch==8.5.1\n",
      "  Downloading pyobjc_framework_libdispatch-8.5.1-cp39-cp39-macosx_10_9_universal2.whl (20 kB)\n",
      "Collecting pyobjc-framework-GameCenter==8.5.1\n",
      "  Downloading pyobjc_framework_GameCenter-8.5.1-cp36-abi3-macosx_10_9_x86_64.whl (12 kB)\n",
      "Collecting pyobjc-framework-PhotosUI==8.5.1\n",
      "  Downloading pyobjc_framework_PhotosUI-8.5.1-cp36-abi3-macosx_10_9_x86_64.whl (7.8 kB)\n",
      "Collecting pyobjc-framework-OSLog==8.5.1\n",
      "  Downloading pyobjc_framework_OSLog-8.5.1-cp36-abi3-macosx_10_9_x86_64.whl (5.8 kB)\n",
      "Collecting pyobjc-framework-DiscRecording==8.5.1\n",
      "  Downloading pyobjc_framework_DiscRecording-8.5.1-cp36-abi3-macosx_10_9_x86_64.whl (12 kB)\n",
      "Collecting pyobjc-framework-LinkPresentation==8.5.1\n",
      "  Downloading pyobjc_framework_LinkPresentation-8.5.1-py2.py3-none-any.whl (3.3 kB)\n",
      "Collecting pyobjc-framework-ApplicationServices==8.5.1\n",
      "  Downloading pyobjc_framework_ApplicationServices-8.5.1-cp39-cp39-macosx_10_9_universal2.whl (25 kB)\n",
      "Collecting pyobjc-framework-PushKit==8.5.1\n",
      "  Downloading pyobjc_framework_PushKit-8.5.1-cp36-abi3-macosx_10_9_x86_64.whl (5.9 kB)\n",
      "Collecting pyobjc-framework-Social==8.5.1\n",
      "  Downloading pyobjc_framework_Social-8.5.1-py2.py3-none-any.whl (4.0 kB)\n",
      "Collecting pyobjc-framework-IMServicePlugIn==8.5.1\n",
      "  Downloading pyobjc_framework_IMServicePlugIn-8.5.1-cp36-abi3-macosx_10_9_x86_64.whl (9.5 kB)\n",
      "Collecting pyobjc-framework-StoreKit==8.5.1\n",
      "  Downloading pyobjc_framework_StoreKit-8.5.1-cp36-abi3-macosx_10_9_x86_64.whl (8.5 kB)\n",
      "Collecting pyobjc-framework-MediaLibrary==8.5.1\n",
      "  Downloading pyobjc_framework_MediaLibrary-8.5.1-py2.py3-none-any.whl (3.9 kB)\n",
      "Collecting pyobjc-framework-AuthenticationServices==8.5.1\n",
      "  Downloading pyobjc_framework_AuthenticationServices-8.5.1-cp36-abi3-macosx_10_9_x86_64.whl (9.1 kB)\n",
      "Collecting pyobjc-framework-EventKit==8.5.1\n",
      "  Downloading pyobjc_framework_EventKit-8.5.1-py2.py3-none-any.whl (5.9 kB)\n",
      "Collecting pyobjc-framework-CoreMediaIO==8.5.1\n",
      "  Downloading pyobjc_framework_CoreMediaIO-8.5.1-cp36-abi3-macosx_10_9_x86_64.whl (13 kB)\n",
      "Collecting pyobjc-framework-CoreServices==8.5.1\n",
      "  Downloading pyobjc_framework_CoreServices-8.5.1-cp36-abi3-macosx_10_9_x86_64.whl (27 kB)\n",
      "Collecting pyobjc-framework-DVDPlayback==8.5.1\n",
      "  Downloading pyobjc_framework_DVDPlayback-8.5.1-py2.py3-none-any.whl (7.8 kB)\n",
      "Collecting pyobjc-framework-BusinessChat==8.5.1\n",
      "  Downloading pyobjc_framework_BusinessChat-8.5.1-py2.py3-none-any.whl (3.0 kB)\n",
      "Collecting pyobjc-framework-NetFS==8.5.1\n",
      "  Downloading pyobjc_framework_NetFS-8.5.1-py2.py3-none-any.whl (3.7 kB)\n",
      "Building wheels for collected packages: pyautogui, pygetwindow, pyscreeze, PyTweening, mouseinfo, pymsgbox, pyperclip, pyrect\n",
      "  Building wheel for pyautogui (setup.py) ... \u001b[?25ldone\n",
      "\u001b[?25h  Created wheel for pyautogui: filename=PyAutoGUI-0.9.53-py3-none-any.whl size=36614 sha256=03bd8658ef4b988ec882b41c63c4e0b17573397593822b72559512588fe3f87b\n",
      "  Stored in directory: /Users/julianacunha/Library/Caches/pip/wheels/d8/97/e4/d2edca92a87d3b5fbfb527264750a17b4ba297b9a7cab6e67f\n",
      "  Building wheel for pygetwindow (setup.py) ... \u001b[?25ldone\n",
      "\u001b[?25h  Created wheel for pygetwindow: filename=PyGetWindow-0.0.9-py3-none-any.whl size=11081 sha256=06fca2614d9db3dc82f9cb376a9fe81dfa03bdcdef6b3762d873ed5adfb2926a\n",
      "  Stored in directory: /Users/julianacunha/Library/Caches/pip/wheels/44/ab/20/423c3a444793767e4e41f8377bc902f77bee212e68dcce85a5\n",
      "  Building wheel for pyscreeze (PEP 517) ... \u001b[?25ldone\n",
      "\u001b[?25h  Created wheel for pyscreeze: filename=PyScreeze-0.1.28-py3-none-any.whl size=13009 sha256=1b5e9c009193313274c0245615f798ae089681392f17e1131c2974dd86c75442\n",
      "  Stored in directory: /Users/julianacunha/Library/Caches/pip/wheels/a2/5b/86/99f1d8fac5d92de0ccb3f0d4ad15e3f4278baf75a9b0f20b93\n",
      "  Building wheel for PyTweening (setup.py) ... \u001b[?25ldone\n",
      "\u001b[?25h  Created wheel for PyTweening: filename=pytweening-1.0.4-py3-none-any.whl size=5854 sha256=2a02bd3ed5fff34e8c84531bcb6f9b85deb28dab9268f27bd08a0faf99c94226\n",
      "  Stored in directory: /Users/julianacunha/Library/Caches/pip/wheels/a4/5d/d2/ba4c8f82163233ffaadcf383c1e34d7d92635d357d13e7b78d\n",
      "  Building wheel for mouseinfo (setup.py) ... \u001b[?25ldone\n",
      "\u001b[?25h  Created wheel for mouseinfo: filename=MouseInfo-0.1.3-py3-none-any.whl size=10906 sha256=9732427d8899aa6cf9b15fce4a30560cdbb8b6171622556fece5c513b69e630c\n",
      "  Stored in directory: /Users/julianacunha/Library/Caches/pip/wheels/61/73/b9/6fb1131ab36e650206e3aa0ad7a68907b41b32ac2d4f75f543\n",
      "  Building wheel for pymsgbox (PEP 517) ... \u001b[?25ldone\n",
      "\u001b[?25h  Created wheel for pymsgbox: filename=PyMsgBox-1.0.9-py3-none-any.whl size=7406 sha256=c5c96335420f664e6185734ddfc15a5a4293a489f1ec0031f2c7cb4de3fcde2b\n",
      "  Stored in directory: /Users/julianacunha/Library/Caches/pip/wheels/7f/13/8c/584c519464297d9637f9cd29fd1dcdf55e2a2cab225c76a2db\n",
      "  Building wheel for pyperclip (setup.py) ... \u001b[?25ldone\n",
      "\u001b[?25h  Created wheel for pyperclip: filename=pyperclip-1.8.2-py3-none-any.whl size=11137 sha256=52874823af1bc3ac5269764f7245b7da88789efd610ab1ce6440c17b2d6cc05d\n",
      "  Stored in directory: /Users/julianacunha/Library/Caches/pip/wheels/0c/09/9e/49e21a6840ef7955b06d47394afef0058f0378c0914e48b8b8\n",
      "  Building wheel for pyrect (setup.py) ... \u001b[?25ldone\n",
      "\u001b[?25h  Created wheel for pyrect: filename=PyRect-0.2.0-py2.py3-none-any.whl size=11196 sha256=e59fe91bac855327621e6667abf9c8a7bb6458f22ae934912727d5af326721b7\n",
      "  Stored in directory: /Users/julianacunha/Library/Caches/pip/wheels/25/80/fa/27bb4a1c2e21f64ec71390489d52e57b7cc8afbe79bd595c5e\n",
      "Successfully built pyautogui pygetwindow pyscreeze PyTweening mouseinfo pymsgbox pyperclip pyrect\n",
      "Installing collected packages: pyobjc-core, pyobjc-framework-Cocoa, pyobjc-framework-Security, pyobjc-framework-Quartz, pyobjc-framework-Metal, pyobjc-framework-FSEvents, pyobjc-framework-CoreMedia, pyobjc-framework-CoreAudio, pyobjc-framework-UserNotifications, pyobjc-framework-SpriteKit, pyobjc-framework-MetalPerformanceShaders, pyobjc-framework-LocalAuthentication, pyobjc-framework-Intents, pyobjc-framework-FileProvider, pyobjc-framework-DiscRecording, pyobjc-framework-CoreServices, pyobjc-framework-CoreML, pyobjc-framework-CoreLocation, pyobjc-framework-CoreData, pyobjc-framework-Contacts, pyobjc-framework-AVFoundation, pyobjc-framework-Accounts, rubicon-objc, pyrect, pyperclip, pyobjc-framework-WebKit, pyobjc-framework-Vision, pyobjc-framework-Virtualization, pyobjc-framework-VideoToolbox, pyobjc-framework-VideoSubscriberAccount, pyobjc-framework-UserNotificationsUI, pyobjc-framework-UniformTypeIdentifiers, pyobjc-framework-SystemExtensions, pyobjc-framework-SystemConfiguration, pyobjc-framework-SyncServices, pyobjc-framework-StoreKit, pyobjc-framework-Speech, pyobjc-framework-SoundAnalysis, pyobjc-framework-Social, pyobjc-framework-ShazamKit, pyobjc-framework-ServiceManagement, pyobjc-framework-SecurityInterface, pyobjc-framework-SecurityFoundation, pyobjc-framework-SearchKit, pyobjc-framework-ScriptingBridge, pyobjc-framework-ScreenTime, pyobjc-framework-ScreenSaver, pyobjc-framework-ScreenCaptureKit, pyobjc-framework-SceneKit, pyobjc-framework-SafariServices, pyobjc-framework-ReplayKit, pyobjc-framework-QuickLookThumbnailing, pyobjc-framework-PushKit, pyobjc-framework-PreferencePanes, pyobjc-framework-PhotosUI, pyobjc-framework-Photos, pyobjc-framework-PencilKit, pyobjc-framework-PassKit, pyobjc-framework-OSLog, pyobjc-framework-OSAKit, pyobjc-framework-OpenDirectory, pyobjc-framework-NotificationCenter, pyobjc-framework-NetworkExtension, pyobjc-framework-Network, pyobjc-framework-NetFS, pyobjc-framework-NaturalLanguage, pyobjc-framework-MultipeerConnectivity, pyobjc-framework-ModelIO, pyobjc-framework-MLCompute, pyobjc-framework-MetricKit, pyobjc-framework-MetalPerformanceShadersGraph, pyobjc-framework-MetalKit, pyobjc-framework-MediaToolbox, pyobjc-framework-MediaPlayer, pyobjc-framework-MediaLibrary, pyobjc-framework-MediaAccessibility, pyobjc-framework-MapKit, pyobjc-framework-MailKit, pyobjc-framework-LocalAuthenticationEmbeddedUI, pyobjc-framework-LinkPresentation, pyobjc-framework-libdispatch, pyobjc-framework-LaunchServices, pyobjc-framework-LatentSemanticMapping, pyobjc-framework-KernelManagement, pyobjc-framework-iTunesLibrary, pyobjc-framework-IOSurface, pyobjc-framework-IntentsUI, pyobjc-framework-InstantMessage, pyobjc-framework-InstallerPlugins, pyobjc-framework-InputMethodKit, pyobjc-framework-IMServicePlugIn, pyobjc-framework-ImageCaptureCore, pyobjc-framework-GameplayKit, pyobjc-framework-GameKit, pyobjc-framework-GameController, pyobjc-framework-GameCenter, pyobjc-framework-FinderSync, pyobjc-framework-FileProviderUI, pyobjc-framework-ExternalAccessory, pyobjc-framework-ExecutionPolicy, pyobjc-framework-ExceptionHandling, pyobjc-framework-EventKit, pyobjc-framework-DVDPlayback, pyobjc-framework-DiskArbitration, pyobjc-framework-DiscRecordingUI, pyobjc-framework-DictionaryServices, pyobjc-framework-DeviceCheck, pyobjc-framework-DataDetection, pyobjc-framework-CryptoTokenKit, pyobjc-framework-CoreWLAN, pyobjc-framework-CoreText, pyobjc-framework-CoreSpotlight, pyobjc-framework-CoreMotion, pyobjc-framework-CoreMIDI, pyobjc-framework-CoreMediaIO, pyobjc-framework-CoreHaptics, pyobjc-framework-CoreBluetooth, pyobjc-framework-CoreAudioKit, pyobjc-framework-ContactsUI, pyobjc-framework-ColorSync, pyobjc-framework-Collaboration, pyobjc-framework-CloudKit, pyobjc-framework-ClassKit, pyobjc-framework-CFNetwork, pyobjc-framework-CallKit, pyobjc-framework-CalendarStore, pyobjc-framework-BusinessChat, pyobjc-framework-AVKit, pyobjc-framework-Automator, pyobjc-framework-AutomaticAssessmentConfiguration, pyobjc-framework-AuthenticationServices, pyobjc-framework-AudioVideoBridging, pyobjc-framework-AppTrackingTransparency, pyobjc-framework-ApplicationServices, pyobjc-framework-AppleScriptObjC, pyobjc-framework-AppleScriptKit, pyobjc-framework-AdSupport, pyobjc-framework-AdServices, pyobjc-framework-AddressBook, pyobjc-framework-Accessibility, PyTweening, pyscreeze, pyobjc, pymsgbox, pygetwindow, mouseinfo, pyautogui\n"
     ]
    },
    {
     "name": "stdout",
     "output_type": "stream",
     "text": [
      "Successfully installed PyTweening-1.0.4 mouseinfo-0.1.3 pyautogui-0.9.53 pygetwindow-0.0.9 pymsgbox-1.0.9 pyobjc-8.5.1 pyobjc-core-8.5.1 pyobjc-framework-AVFoundation-8.5.1 pyobjc-framework-AVKit-8.5.1 pyobjc-framework-Accessibility-8.5.1 pyobjc-framework-Accounts-8.5.1 pyobjc-framework-AdServices-8.5.1 pyobjc-framework-AdSupport-8.5.1 pyobjc-framework-AddressBook-8.5.1 pyobjc-framework-AppTrackingTransparency-8.5.1 pyobjc-framework-AppleScriptKit-8.5.1 pyobjc-framework-AppleScriptObjC-8.5.1 pyobjc-framework-ApplicationServices-8.5.1 pyobjc-framework-AudioVideoBridging-8.5.1 pyobjc-framework-AuthenticationServices-8.5.1 pyobjc-framework-AutomaticAssessmentConfiguration-8.5.1 pyobjc-framework-Automator-8.5.1 pyobjc-framework-BusinessChat-8.5.1 pyobjc-framework-CFNetwork-8.5.1 pyobjc-framework-CalendarStore-8.5.1 pyobjc-framework-CallKit-8.5.1 pyobjc-framework-ClassKit-8.5.1 pyobjc-framework-CloudKit-8.5.1 pyobjc-framework-Cocoa-8.5.1 pyobjc-framework-Collaboration-8.5.1 pyobjc-framework-ColorSync-8.5.1 pyobjc-framework-Contacts-8.5.1 pyobjc-framework-ContactsUI-8.5.1 pyobjc-framework-CoreAudio-8.5.1 pyobjc-framework-CoreAudioKit-8.5.1 pyobjc-framework-CoreBluetooth-8.5.1 pyobjc-framework-CoreData-8.5.1 pyobjc-framework-CoreHaptics-8.5.1 pyobjc-framework-CoreLocation-8.5.1 pyobjc-framework-CoreMIDI-8.5.1 pyobjc-framework-CoreML-8.5.1 pyobjc-framework-CoreMedia-8.5.1 pyobjc-framework-CoreMediaIO-8.5.1 pyobjc-framework-CoreMotion-8.5.1 pyobjc-framework-CoreServices-8.5.1 pyobjc-framework-CoreSpotlight-8.5.1 pyobjc-framework-CoreText-8.5.1 pyobjc-framework-CoreWLAN-8.5.1 pyobjc-framework-CryptoTokenKit-8.5.1 pyobjc-framework-DVDPlayback-8.5.1 pyobjc-framework-DataDetection-8.5.1 pyobjc-framework-DeviceCheck-8.5.1 pyobjc-framework-DictionaryServices-8.5.1 pyobjc-framework-DiscRecording-8.5.1 pyobjc-framework-DiscRecordingUI-8.5.1 pyobjc-framework-DiskArbitration-8.5.1 pyobjc-framework-EventKit-8.5.1 pyobjc-framework-ExceptionHandling-8.5.1 pyobjc-framework-ExecutionPolicy-8.5.1 pyobjc-framework-ExternalAccessory-8.5.1 pyobjc-framework-FSEvents-8.5.1 pyobjc-framework-FileProvider-8.5.1 pyobjc-framework-FileProviderUI-8.5.1 pyobjc-framework-FinderSync-8.5.1 pyobjc-framework-GameCenter-8.5.1 pyobjc-framework-GameController-8.5.1 pyobjc-framework-GameKit-8.5.1 pyobjc-framework-GameplayKit-8.5.1 pyobjc-framework-IMServicePlugIn-8.5.1 pyobjc-framework-IOSurface-8.5.1 pyobjc-framework-ImageCaptureCore-8.5.1 pyobjc-framework-InputMethodKit-8.5.1 pyobjc-framework-InstallerPlugins-8.5.1 pyobjc-framework-InstantMessage-8.5.1 pyobjc-framework-Intents-8.5.1 pyobjc-framework-IntentsUI-8.5.1 pyobjc-framework-KernelManagement-8.5.1 pyobjc-framework-LatentSemanticMapping-8.5.1 pyobjc-framework-LaunchServices-8.5.1 pyobjc-framework-LinkPresentation-8.5.1 pyobjc-framework-LocalAuthentication-8.5.1 pyobjc-framework-LocalAuthenticationEmbeddedUI-8.5.1 pyobjc-framework-MLCompute-8.5.1 pyobjc-framework-MailKit-8.5.1 pyobjc-framework-MapKit-8.5.1 pyobjc-framework-MediaAccessibility-8.5.1 pyobjc-framework-MediaLibrary-8.5.1 pyobjc-framework-MediaPlayer-8.5.1 pyobjc-framework-MediaToolbox-8.5.1 pyobjc-framework-Metal-8.5.1 pyobjc-framework-MetalKit-8.5.1 pyobjc-framework-MetalPerformanceShaders-8.5.1 pyobjc-framework-MetalPerformanceShadersGraph-8.5.1 pyobjc-framework-MetricKit-8.5.1 pyobjc-framework-ModelIO-8.5.1 pyobjc-framework-MultipeerConnectivity-8.5.1 pyobjc-framework-NaturalLanguage-8.5.1 pyobjc-framework-NetFS-8.5.1 pyobjc-framework-Network-8.5.1 pyobjc-framework-NetworkExtension-8.5.1 pyobjc-framework-NotificationCenter-8.5.1 pyobjc-framework-OSAKit-8.5.1 pyobjc-framework-OSLog-8.5.1 pyobjc-framework-OpenDirectory-8.5.1 pyobjc-framework-PassKit-8.5.1 pyobjc-framework-PencilKit-8.5.1 pyobjc-framework-Photos-8.5.1 pyobjc-framework-PhotosUI-8.5.1 pyobjc-framework-PreferencePanes-8.5.1 pyobjc-framework-PushKit-8.5.1 pyobjc-framework-Quartz-8.5.1 pyobjc-framework-QuickLookThumbnailing-8.5.1 pyobjc-framework-ReplayKit-8.5.1 pyobjc-framework-SafariServices-8.5.1 pyobjc-framework-SceneKit-8.5.1 pyobjc-framework-ScreenCaptureKit-8.5.1 pyobjc-framework-ScreenSaver-8.5.1 pyobjc-framework-ScreenTime-8.5.1 pyobjc-framework-ScriptingBridge-8.5.1 pyobjc-framework-SearchKit-8.5.1 pyobjc-framework-Security-8.5.1 pyobjc-framework-SecurityFoundation-8.5.1 pyobjc-framework-SecurityInterface-8.5.1 pyobjc-framework-ServiceManagement-8.5.1 pyobjc-framework-ShazamKit-8.5.1 pyobjc-framework-Social-8.5.1 pyobjc-framework-SoundAnalysis-8.5.1 pyobjc-framework-Speech-8.5.1 pyobjc-framework-SpriteKit-8.5.1 pyobjc-framework-StoreKit-8.5.1 pyobjc-framework-SyncServices-8.5.1 pyobjc-framework-SystemConfiguration-8.5.1 pyobjc-framework-SystemExtensions-8.5.1 pyobjc-framework-UniformTypeIdentifiers-8.5.1 pyobjc-framework-UserNotifications-8.5.1 pyobjc-framework-UserNotificationsUI-8.5.1 pyobjc-framework-VideoSubscriberAccount-8.5.1 pyobjc-framework-VideoToolbox-8.5.1 pyobjc-framework-Virtualization-8.5.1 pyobjc-framework-Vision-8.5.1 pyobjc-framework-WebKit-8.5.1 pyobjc-framework-iTunesLibrary-8.5.1 pyobjc-framework-libdispatch-8.5.1 pyperclip-1.8.2 pyrect-0.2.0 pyscreeze-0.1.28 rubicon-objc-0.4.2\r\n"
     ]
    }
   ],
   "source": [
    "!pip install pyautogui"
   ]
  },
  {
   "cell_type": "code",
   "execution_count": 11,
   "id": "8b27bb25",
   "metadata": {},
   "outputs": [
    {
     "name": "stdout",
     "output_type": "stream",
     "text": [
      "Requirement already satisfied: pyperclip in /Users/julianacunha/opt/anaconda3/lib/python3.9/site-packages (1.8.2)\r\n"
     ]
    }
   ],
   "source": [
    "!pip install pyperclip"
   ]
  },
  {
   "cell_type": "code",
   "execution_count": 16,
   "id": "63e4f476",
   "metadata": {},
   "outputs": [],
   "source": [
    "import pyautogui\n",
    "import pyperclip"
   ]
  },
  {
   "cell_type": "code",
   "execution_count": 46,
   "id": "376d2126",
   "metadata": {},
   "outputs": [],
   "source": [
    "pyautogui.PAUSE = 2\n",
    "\n",
    "pyautogui.hotkey(\"command\",\"t\") \n",
    "pyperclip.copy(\"https://mail.google.com/mail\")\n",
    "pyautogui.hotkey(\"command\",\"v\") \n",
    "pyautogui.hotkey(\"return\") \n",
    "\n",
    "pyautogui.click(x=203, y=208)\n",
    "\n",
    "pyperclip.copy(\"juliana_eng.compy@hotmail.com\")\n",
    "pyautogui.hotkey(\"command\",\"v\") \n",
    "pyautogui.hotkey(\"tab\") \n",
    "\n",
    "pyperclip.copy(\"Análises diárias\")\n",
    "pyautogui.hotkey(\"command\",\"v\") \n",
    "pyautogui.hotkey(\"tab\") \n",
    "\n",
    "mensagem = f\"\"\"Prezado gestor, \n",
    "Segue as análises dos últimos 6 meses da açāo {ticker}:\n",
    "\n",
    "Cotaçāo máxima: R$ {round(maxima,2)}\n",
    "Cotaçāo mínima: R$ {round(minima,2)}\n",
    "Cotaçāo atual: R$ {round(atual,2)}\n",
    "\n",
    "Qualquer dúvida, estou à disposiçāo!\n",
    "\n",
    "Juliana.\n",
    "\"\"\"\n",
    "\n",
    "pyperclip.copy(mensagem)\n",
    "pyautogui.hotkey(\"command\",\"v\") \n",
    "\n",
    "pyautogui.click(x=818, y=779)"
   ]
  },
  {
   "cell_type": "markdown",
   "id": "cfaa497d",
   "metadata": {},
   "source": [
    "# Biblioteca interna do Python paara descobrir coordenada do mouse , usando 5 segundos de espera para colocar o mouse na posicao desejada"
   ]
  },
  {
   "cell_type": "code",
   "execution_count": 43,
   "id": "3672d717",
   "metadata": {
    "scrolled": true
   },
   "outputs": [
    {
     "data": {
      "text/plain": [
       "Point(x=818, y=779)"
      ]
     },
     "execution_count": 43,
     "metadata": {},
     "output_type": "execute_result"
    }
   ],
   "source": [
    "import time \n",
    "\n",
    "time.sleep(5)\n",
    "\n",
    "pyautogui.position()"
   ]
  },
  {
   "cell_type": "code",
   "execution_count": null,
   "id": "90e76708",
   "metadata": {},
   "outputs": [],
   "source": []
  }
 ],
 "metadata": {
  "kernelspec": {
   "display_name": "Python 3 (ipykernel)",
   "language": "python",
   "name": "python3"
  },
  "language_info": {
   "codemirror_mode": {
    "name": "ipython",
    "version": 3
   },
   "file_extension": ".py",
   "mimetype": "text/x-python",
   "name": "python",
   "nbconvert_exporter": "python",
   "pygments_lexer": "ipython3",
   "version": "3.9.12"
  }
 },
 "nbformat": 4,
 "nbformat_minor": 5
}
